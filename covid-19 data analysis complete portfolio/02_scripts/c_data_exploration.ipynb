{
 "cells": [
  {
   "cell_type": "code",
   "execution_count": 1,
   "id": "d5f7a2ad-5ccc-4ebb-b7a6-6aaff34d04fd",
   "metadata": {},
   "outputs": [],
   "source": [
    "# importing the required libraries\n",
    "import numpy as np  # For array handling and numerical operations\n",
    "import pandas as pd  # For creating DataFrames and data manipulation"
   ]
  },
  {
   "cell_type": "code",
   "execution_count": 4,
   "id": "3cac3096-6241-4811-8f5d-bf0b453b26d0",
   "metadata": {},
   "outputs": [
    {
     "name": "stdout",
     "output_type": "stream",
     "text": [
      "           country          cases        death           region\n",
      "0   United States    111,820,082    1,219,487    North America \n",
      "1           India     45,035,393      533,570             Asia \n",
      "2          France     40,138,560      167,642           Europe \n",
      "3         Germany     38,828,995      183,027           Europe \n",
      "4          Brazil     38,743,918      711,380    South America \n"
     ]
    }
   ],
   "source": [
    "# importing the scrabed data set which has created in the b_data_collection file and saved\n",
    "df=pd.read_csv(\"scraped_data.csv\")\n",
    "#checking the data successfuly loaded or not\n",
    "print(df.head())"
   ]
  },
  {
   "cell_type": "markdown",
   "id": "86b2c0c5-f030-42d1-91e1-427ba77f1847",
   "metadata": {},
   "source": [
    "# Data Exploration"
   ]
  },
  {
   "cell_type": "code",
   "execution_count": 5,
   "id": "135c9cfe-3aff-46b3-b548-c0b2efc9094c",
   "metadata": {},
   "outputs": [
    {
     "name": "stdout",
     "output_type": "stream",
     "text": [
      "First 5 rows:\n",
      "           country          cases        death           region\n",
      "0   United States    111,820,082    1,219,487    North America \n",
      "1           India     45,035,393      533,570             Asia \n",
      "2          France     40,138,560      167,642           Europe \n",
      "3         Germany     38,828,995      183,027           Europe \n",
      "4          Brazil     38,743,918      711,380    South America \n"
     ]
    }
   ],
   "source": [
    "# Display the first 5 rows of the DataFrame\n",
    "print(\"First 5 rows:\")\n",
    "print(df.head())"
   ]
  },
  {
   "cell_type": "code",
   "execution_count": 6,
   "id": "8a6b7b4a-3d87-4ae0-87b3-42816270a7ce",
   "metadata": {},
   "outputs": [
    {
     "name": "stdout",
     "output_type": "stream",
     "text": [
      "Last 5 rows:\n",
      "              country    cases death               region\n",
      "225             Niue    1,059     0    Australia/Oceania \n",
      "226          Tokelau       80     0    Australia/Oceania \n",
      "227         Holy See       29     0               Europe \n",
      "228   Western Sahara       10     1               Africa \n",
      "229       MS Zaandam        9     2                      \n"
     ]
    }
   ],
   "source": [
    "# Display the last 5 rows of the DataFrame\n",
    "print(\"Last 5 rows:\")\n",
    "print(df.tail())"
   ]
  },
  {
   "cell_type": "code",
   "execution_count": 7,
   "id": "ce1c23cd-543c-40af-90ed-2bf1f6acaf2e",
   "metadata": {},
   "outputs": [
    {
     "name": "stdout",
     "output_type": "stream",
     "text": [
      "Shape of the DataFrame: (230, 4)\n"
     ]
    }
   ],
   "source": [
    "# Display the shape of the DataFrame\n",
    "print(\"Shape of the DataFrame:\", df.shape)"
   ]
  },
  {
   "cell_type": "code",
   "execution_count": 8,
   "id": "7bf52ecb-678e-4ec0-8b7e-e80a5c7e990d",
   "metadata": {},
   "outputs": [
    {
     "name": "stdout",
     "output_type": "stream",
     "text": [
      "Null value counts:\n",
      "country    0\n",
      "cases      0\n",
      "death      0\n",
      "region     0\n",
      "dtype: int64\n"
     ]
    }
   ],
   "source": [
    "# Check for null values\n",
    "print(\"Null value counts:\")\n",
    "print(df.isnull().sum())"
   ]
  },
  {
   "cell_type": "code",
   "execution_count": 9,
   "id": "dcbd4d35-f3e7-487a-b1f0-bd81189e0832",
   "metadata": {},
   "outputs": [
    {
     "name": "stdout",
     "output_type": "stream",
     "text": [
      "Summary statistics:\n",
      "                country          cases death    region\n",
      "count               230            230   230       230\n",
      "unique              230            230   212         7\n",
      "top      United States    111,820,082     0    Africa \n",
      "freq                  1              1     5        58\n"
     ]
    }
   ],
   "source": [
    "# Summary statistics of numerical columns\n",
    "print(\"Summary statistics:\")\n",
    "print(df.describe())"
   ]
  },
  {
   "cell_type": "code",
   "execution_count": 10,
   "id": "55027013-4198-4abc-963e-90d8c5df8de9",
   "metadata": {},
   "outputs": [
    {
     "name": "stdout",
     "output_type": "stream",
     "text": [
      "Unique values per column:\n",
      "country    230\n",
      "cases      230\n",
      "death      212\n",
      "region       7\n",
      "dtype: int64\n"
     ]
    }
   ],
   "source": [
    "# Unique value counts per column\n",
    "print(\"Unique values per column:\")\n",
    "print(df.nunique())"
   ]
  },
  {
   "cell_type": "code",
   "execution_count": 11,
   "id": "355fd18e-b411-44f0-899e-025dd2d96157",
   "metadata": {},
   "outputs": [
    {
     "name": "stdout",
     "output_type": "stream",
     "text": [
      "<class 'pandas.core.frame.DataFrame'>\n",
      "RangeIndex: 230 entries, 0 to 229\n",
      "Data columns (total 4 columns):\n",
      " #   Column   Non-Null Count  Dtype \n",
      "---  ------   --------------  ----- \n",
      " 0   country  230 non-null    object\n",
      " 1   cases    230 non-null    object\n",
      " 2   death    230 non-null    object\n",
      " 3   region   230 non-null    object\n",
      "dtypes: object(4)\n",
      "memory usage: 7.3+ KB\n",
      "None\n"
     ]
    }
   ],
   "source": [
    "#checking columns type and about null values\n",
    "print(df.info())"
   ]
  },
  {
   "cell_type": "code",
   "execution_count": 12,
   "id": "c7f4a552-c872-40c1-b7dc-1363af2c6061",
   "metadata": {},
   "outputs": [
    {
     "name": "stdout",
     "output_type": "stream",
     "text": [
      "Value counts for region:\n",
      "region\n",
      "Africa                58\n",
      "Asia                  50\n",
      "Europe                48\n",
      "North America         39\n",
      "Australia/Oceania     20\n",
      "South America         14\n",
      "                       1\n",
      "Name: count, dtype: int64\n"
     ]
    }
   ],
   "source": [
    "# Value counts for the region column\n",
    "print(\"Value counts for region:\")\n",
    "print(df['region'].value_counts())"
   ]
  },
  {
   "cell_type": "code",
   "execution_count": 13,
   "id": "a7711181-fb96-4a0b-be05-250b2a16239b",
   "metadata": {},
   "outputs": [
    {
     "name": "stdout",
     "output_type": "stream",
     "text": [
      "Value counts for country:\n",
      "country\n",
      "United States      1\n",
      "India              1\n",
      "France             1\n",
      "Germany            1\n",
      "Brazil             1\n",
      "                  ..\n",
      "Niue               1\n",
      "Tokelau            1\n",
      "Holy See           1\n",
      "Western Sahara     1\n",
      "MS Zaandam         1\n",
      "Name: count, Length: 230, dtype: int64\n"
     ]
    }
   ],
   "source": [
    "# Value counts for the country column\n",
    "print(\"Value counts for country:\")\n",
    "print(df['country'].value_counts())"
   ]
  },
  {
   "cell_type": "code",
   "execution_count": 16,
   "id": "836a7d59-6675-45b1-937b-2b30e142abbd",
   "metadata": {},
   "outputs": [
    {
     "name": "stdout",
     "output_type": "stream",
     "text": [
      "0\n"
     ]
    }
   ],
   "source": [
    "#Checking Duplicate values\n",
    "print(df.duplicated().sum())\n"
   ]
  },
  {
   "cell_type": "code",
   "execution_count": 18,
   "id": "030921eb-71b6-4404-af91-467a84d00288",
   "metadata": {},
   "outputs": [
    {
     "name": "stdout",
     "output_type": "stream",
     "text": [
      "country    0\n",
      "cases      0\n",
      "death      0\n",
      "region     1\n",
      "dtype: int64\n"
     ]
    }
   ],
   "source": [
    "#checking or counting is there any   hidden string columnwise in the dataframe?\n",
    "hidden_values= df.map(lambda x: isinstance(x, str) and x.strip() == '')\n",
    "x= hidden_values.sum()\n",
    "print(x)"
   ]
  }
 ],
 "metadata": {
  "kernelspec": {
   "display_name": "Python 3 (ipykernel)",
   "language": "python",
   "name": "python3"
  },
  "language_info": {
   "codemirror_mode": {
    "name": "ipython",
    "version": 3
   },
   "file_extension": ".py",
   "mimetype": "text/x-python",
   "name": "python",
   "nbconvert_exporter": "python",
   "pygments_lexer": "ipython3",
   "version": "3.13.1"
  }
 },
 "nbformat": 4,
 "nbformat_minor": 5
}
