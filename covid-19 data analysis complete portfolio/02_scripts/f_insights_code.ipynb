{
 "cells": [
  {
   "cell_type": "code",
   "execution_count": 1,
   "id": "e6e923a9-2c34-4370-a7e9-ea31155c83e2",
   "metadata": {},
   "outputs": [
    {
     "name": "stdout",
     "output_type": "stream",
     "text": [
      "           country      cases    death           region  moralityrate\n",
      "0   United States   111820082  1219487   North America        9169.44\n",
      "1           India    45035393   533570            Asia        8440.39\n",
      "2          France    40138560   167642          Europe       23943.02\n",
      "3         Germany    38828995   183027          Europe       21214.90\n",
      "4          Brazil    38743918   711380   South America        5446.30\n"
     ]
    }
   ],
   "source": [
    "# Importing necessary libraries\n",
    "import numpy as np  # For array handling and numerical operations\n",
    "import pandas as pd  # For creating DataFrames and data manipulation\n",
    "import matplotlib.pyplot as plt  # For basic data visualization\n",
    "import seaborn as sns #for basic plot as well\n",
    "#importing the cleaned data set which i have saved in d_data_cleaning file\n",
    "df=pd.read_csv(\"Covid-19 countrywise cleand dataset.csv\")\n",
    "print(df.head()) # checking the data set successfully imported or not"
   ]
  },
  {
   "cell_type": "code",
   "execution_count": 4,
   "id": "c891d43f-1c06-4a65-90fb-5a71ef84e9cc",
   "metadata": {},
   "outputs": [
    {
     "name": "stdout",
     "output_type": "stream",
     "text": [
      "Top 3 countries with most cases are:\n",
      "           country      cases\n",
      "0   United States   111820082\n",
      "1           India    45035393\n",
      "2          France    40138560\n",
      "Top 3 countries with most deaths are:\n",
      "           country    death\n",
      "0   United States   1219487\n",
      "1          Brazil    711380\n",
      "2           India    533570\n"
     ]
    }
   ],
   "source": [
    "# insight 1:\n",
    "#Top 3 countries with hiest cases and death:-\n",
    "#top 3 highest cases\n",
    "top3_highcases_country = df[[\"country\", \"cases\"]].sort_values(by=\"cases\", ascending=False).head(3).reset_index(drop=True)\n",
    "print(\"Top 3 countries with most cases are:\")\n",
    "print(top3_highcases_country)\n",
    "#top 3 highest death\n",
    "top3_high_death_country = df[[\"country\", \"death\"]].sort_values(by=\"death\", ascending=False).head(3).reset_index(drop=True)\n",
    "print(\"Top 3 countries with most deaths are:\")\n",
    "print(top3_high_death_country)"
   ]
  },
  {
   "cell_type": "code",
   "execution_count": 5,
   "id": "cb14aef1-42a1-423c-b113-db6299be48c0",
   "metadata": {},
   "outputs": [
    {
     "name": "stdout",
     "output_type": "stream",
     "text": [
      "Top 3 countries with highest moralityrate:\n",
      "          country  moralityrate\n",
      "0    North Korea      6449747.3\n",
      "1          Nauru       539300.0\n",
      "2   Cook Islands       360150.0\n",
      "Top 3 countries with lowest moralityrate:\n",
      "              country  moralityrate\n",
      "0   Falkland Islands            0.0\n",
      "1           Holy See            0.0\n",
      "2            Tokelau            0.0\n"
     ]
    }
   ],
   "source": [
    "# insight 2:\n",
    "#Top 3 Countries with the Highest and Lowest Mortality Rates:\n",
    "#top3 countries with highest morality\n",
    "top3_high_morality=df[[\"country\",\"moralityrate\"]].sort_values(by=\"moralityrate\",ascending=False).head(3).reset_index(drop=True)\n",
    "print(\"Top 3 countries with highest moralityrate:\")\n",
    "print(top3_high_morality)\n",
    "#top3 countries with lowest morality\n",
    "top3_low_morality=df[[\"country\",\"moralityrate\"]].sort_values(by=\"moralityrate\",ascending=False).tail(3).reset_index(drop=True)\n",
    "print(\"Top 3 countries with lowest moralityrate:\")\n",
    "print(top3_low_morality)"
   ]
  },
  {
   "cell_type": "code",
   "execution_count": 6,
   "id": "b2bad78e-2b20-4c8b-8e79-f72ac12cb6d0",
   "metadata": {},
   "outputs": [
    {
     "name": "stdout",
     "output_type": "stream",
     "text": [
      "Correlation between cases and deaths: 0.886303147908508\n"
     ]
    }
   ],
   "source": [
    "# insight 3:\n",
    "#corelation death by cases \n",
    "correlation = df[\"cases\"].corr(df[\"death\"])\n",
    "print(f\"Correlation between cases and deaths: {correlation}\")"
   ]
  },
  {
   "cell_type": "code",
   "execution_count": 7,
   "id": "695987a9-ddd8-4f97-b9b5-446b76ed605c",
   "metadata": {},
   "outputs": [
    {
     "name": "stdout",
     "output_type": "stream",
     "text": [
      "                         cases    death\n",
      "region                                 \n",
      " Africa               12860924   258892\n",
      " Asia                221500977  1553675\n",
      " Australia/Oceania    14895771    33015\n",
      " Europe              253406198  2101824\n",
      " North America       131889132  1695941\n",
      " South America        70200879  1367332\n",
      "no region                    9        2\n",
      "region with highest cases\n",
      "             cases    death\n",
      "region                     \n",
      "Europe   253406198  2101824\n",
      "region with lowest cases\n",
      "           cases  death\n",
      "region                 \n",
      "no region      9      2\n",
      "region with highest death\n",
      "             cases    death\n",
      "region                     \n",
      "Europe   253406198  2101824\n",
      "region with lowest death\n",
      "           cases  death\n",
      "region                 \n",
      "no region      9      2\n"
     ]
    }
   ],
   "source": [
    "#insight 4:\n",
    "#highest and lowest number of cases and death by region\n",
    "region_affect=df.groupby(\"region\").agg({\"cases\":\"sum\",\"death\":\"sum\"})\n",
    "#region with highest cases \n",
    "print(region_affect)\n",
    "high_case_region=region_affect.loc[[region_affect[\"cases\"].idxmax()]]\n",
    "print(\"region with highest cases\")\n",
    "print(high_case_region)\n",
    "# region with lowest cases\n",
    "low_case_region=region_affect.loc[[region_affect[\"cases\"].idxmin()]]\n",
    "print(\"region with lowest cases\")\n",
    "print(low_case_region)\n",
    "#region with highest death \n",
    "high_death_region=region_affect.loc[[region_affect[\"death\"].idxmax()]]\n",
    "print(\"region with highest death\")\n",
    "print(high_death_region)\n",
    "#region with lowest death \n",
    "low_death_region=region_affect.loc[[region_affect[\"death\"].idxmin()]]\n",
    "print(\"region with lowest death\")\n",
    "print(low_death_region)"
   ]
  },
  {
   "cell_type": "code",
   "execution_count": 9,
   "id": "0ec71188-41e3-4f67-b75f-c235cb12b8b8",
   "metadata": {},
   "outputs": [
    {
     "data": {
      "image/png": "[encoded data removed]",
      "text/plain": [
       "<Figure size 640x480 with 1 Axes>"
      ]
     },
     "metadata": {},
     "output_type": "display_data"
    }
   ],
   "source": [
    "#insight 5:\n",
    "#Detecting a outlier of death using boxplot\n",
    "plt.boxplot(df['death'])  # Boxplot for the 'death' column to visualize the distribution and detect outliers\n",
    "plt.xlabel('Death', fontsize=14, color='blue', fontweight='bold')  # Customize the x-axis label\n",
    "plt.ylabel('Frequency', fontsize=14, color='green', fontweight='bold')  # Customize the y-axis label\n",
    "plt.title('Boxplot of Deaths', fontsize=16, color='purple', fontweight='bold')  # Set the plot title\n",
    "plt.ticklabel_format(style=\"plain\", axis=\"Y\")\n",
    "plt.show()  # Display the plot"
   ]
  },
  {
   "cell_type": "code",
   "execution_count": null,
   "id": "acc84b29-8fec-4b33-85c4-a73444851db9",
   "metadata": {},
   "outputs": [],
   "source": []
  }
 ],
 "metadata": {
  "kernelspec": {
   "display_name": "Python 3 (ipykernel)",
   "language": "python",
   "name": "python3"
  },
  "language_info": {
   "codemirror_mode": {
    "name": "ipython",
    "version": 3
   },
   "file_extension": ".py",
   "mimetype": "text/x-python",
   "name": "python",
   "nbconvert_exporter": "python",
   "pygments_lexer": "ipython3",
   "version": "3.13.1"
  }
 },
 "nbformat": 4,
 "nbformat_minor": 5
}
