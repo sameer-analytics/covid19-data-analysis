{
 "cells": [
  {
   "cell_type": "code",
   "execution_count": 1,
   "id": "9412cafb-8a76-4205-a71a-030329c782ef",
   "metadata": {},
   "outputs": [],
   "source": [
    "# importing the necessary libraries\n",
    "import numpy as np  # For array handling and numerical operations\n",
    "import pandas as pd  # For creating DataFrames and data manipulation\n",
    "import re  # For cleaning raw or scraped data"
   ]
  },
  {
   "cell_type": "code",
   "execution_count": 2,
   "id": "2a7a1ea1-2a1a-4e07-bdc8-d1c2218825ac",
   "metadata": {},
   "outputs": [
    {
     "name": "stdout",
     "output_type": "stream",
     "text": [
      "           country          cases        death           region\n",
      "0   United States    111,820,082    1,219,487    North America \n",
      "1           India     45,035,393      533,570             Asia \n",
      "2          France     40,138,560      167,642           Europe \n",
      "3         Germany     38,828,995      183,027           Europe \n",
      "4          Brazil     38,743,918      711,380    South America \n"
     ]
    }
   ],
   "source": [
    "# importing the scrabed data set which has created in the b_data_collection file and saved\n",
    "df=pd.read_csv(\"scraped_data.csv\")\n",
    "#checking the data successfuly loaded or not\n",
    "print(df.head())"
   ]
  },
  {
   "cell_type": "markdown",
   "id": "01ada3e1-3266-405e-95c0-fca7b55d2524",
   "metadata": {},
   "source": [
    "# Data Cleaning"
   ]
  },
  {
   "cell_type": "code",
   "execution_count": 4,
   "id": "19f4c3c9-3490-4918-9e7d-a48a1ef06552",
   "metadata": {},
   "outputs": [],
   "source": [
    "# we got only one hidden string in the region column in data exploration part so clearing the hidden string present in the region column of the dataframe\n",
    "df[\"region\"] = df[\"region\"].replace(r'^\\s*$', np.nan, regex=True)#replacing the hiddden string with nan for future purpose use\n",
    "df[\"region\"]=df['region'].fillna(\"no region\")#rplacing the nan with requird value you need"
   ]
  },
  {
   "cell_type": "code",
   "execution_count": 5,
   "id": "e18f7f02-9442-4105-b334-2ba6dbfff5cf",
   "metadata": {},
   "outputs": [],
   "source": [
    "#handleing the delimeter , in the integer column vlaues and typecasting the columns from object to actual type\n",
    "df[\"country\"]=df[\"country\"].astype(\"string\")\n",
    "df[\"cases\"]=df[\"cases\"].str.replace(',','').astype(int)\n",
    "df[\"death\"]=df[\"death\"].str.replace(',','').astype(int)\n",
    "df[\"region\"]=df[\"region\"].astype(\"string\")"
   ]
  },
  {
   "cell_type": "code",
   "execution_count": 10,
   "id": "b2f6624e-43a6-4c53-9481-814db9c4b8f2",
   "metadata": {},
   "outputs": [
    {
     "name": "stdout",
     "output_type": "stream",
     "text": [
      "<class 'pandas.core.frame.DataFrame'>\n",
      "RangeIndex: 230 entries, 0 to 229\n",
      "Data columns (total 5 columns):\n",
      " #   Column        Non-Null Count  Dtype  \n",
      "---  ------        --------------  -----  \n",
      " 0   country       230 non-null    string \n",
      " 1   cases         230 non-null    int64  \n",
      " 2   death         230 non-null    int64  \n",
      " 3   region        230 non-null    string \n",
      " 4   moralityrate  230 non-null    float64\n",
      "dtypes: float64(1), int64(2), string(2)\n",
      "memory usage: 9.1 KB\n",
      "None\n"
     ]
    }
   ],
   "source": [
    "#adding a new column of the datafrmae that is morality rate of covid 19\n",
    "df[\"moralityrate\"]=(df[\"cases\"]/df[\"death\"])*100\n",
    "\n",
    "# Sort the df  by number of cases in descending order so that the data frame will show number of cases according\n",
    "df.sort_values(by=\"cases\",ascending=False,inplace=True)\n",
    "#verifying all the clean part has done or not\n",
    "print(df.info())"
   ]
  },
  {
   "cell_type": "code",
   "execution_count": 11,
   "id": "9cf30680-c41c-48de-a4fc-27044eb6e88d",
   "metadata": {},
   "outputs": [],
   "source": [
    "#it seems like there are inf and e+ notations number in coumn morality  so handling the inf by replace it with 0 and e+ notations with float point\n",
    "df[\"moralityrate\"]=df[\"moralityrate\"].replace([float('inf')],0)#this also clear the e+ notation float"
   ]
  },
  {
   "cell_type": "code",
   "execution_count": 12,
   "id": "cfc3cb19-f644-4d7b-9291-878339e33702",
   "metadata": {},
   "outputs": [
    {
     "name": "stdout",
     "output_type": "stream",
     "text": [
      "0\n"
     ]
    }
   ],
   "source": [
    "#checking is all inf cleared or not in morality column\n",
    "print(df[\"moralityrate\"].apply(np.isinf).sum())"
   ]
  },
  {
   "cell_type": "code",
   "execution_count": 13,
   "id": "7df791cc-f734-4086-b8a9-de85d8a9d060",
   "metadata": {},
   "outputs": [
    {
     "name": "stdout",
     "output_type": "stream",
     "text": [
      "False\n"
     ]
    }
   ],
   "source": [
    "#checking is there any e+ notations or not\n",
    "e_plus_present = df[\"moralityrate\"].apply(lambda x: 'e+' in str(x)).any()\n",
    "print(e_plus_present)"
   ]
  },
  {
   "cell_type": "code",
   "execution_count": 14,
   "id": "6ff5bbc9-4759-4e6a-8b6f-9140f1e0d7e7",
   "metadata": {},
   "outputs": [],
   "source": [
    "#Rounding off the moralityrate with 2flaot numeric\n",
    "df[\"moralityrate\"] = df[\"moralityrate\"].round(2)"
   ]
  },
  {
   "cell_type": "code",
   "execution_count": 15,
   "id": "e8e2b2c9-4563-4c36-bf44-6e26a0f7c8be",
   "metadata": {},
   "outputs": [],
   "source": [
    "# saving the data set for future analysis into a csv\n",
    "df.to_csv(\"Covid-19 countrywise cleand dataset.csv\",index=False)"
   ]
  }
 ],
 "metadata": {
  "kernelspec": {
   "display_name": "Python 3 (ipykernel)",
   "language": "python",
   "name": "python3"
  },
  "language_info": {
   "codemirror_mode": {
    "name": "ipython",
    "version": 3
   },
   "file_extension": ".py",
   "mimetype": "text/x-python",
   "name": "python",
   "nbconvert_exporter": "python",
   "pygments_lexer": "ipython3",
   "version": "3.13.1"
  }
 },
 "nbformat": 4,
 "nbformat_minor": 5
}
