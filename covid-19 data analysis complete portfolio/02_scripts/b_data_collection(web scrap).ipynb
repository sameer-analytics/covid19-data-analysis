{
 "cells": [
  {
   "cell_type": "code",
   "execution_count": 9,
   "id": "76a9514f-035b-4312-b730-60ef27e457c6",
   "metadata": {},
   "outputs": [],
   "source": [
    "# importing required libraries\n",
    "import numpy as np  # For array handling and numerical operations\n",
    "import pandas as pd  # For creating DataFrames and data manipulation\n",
    "import re  # For cleaning raw or scraped data\n",
    "from bs4 import BeautifulSoup  # For web scraping HTML contentp\n",
    "import requests  # For making HTTP requests"
   ]
  },
  {
   "cell_type": "markdown",
   "id": "3d537cbb-9311-4eb3-b034-5724bb654161",
   "metadata": {},
   "source": [
    "# Data Collection By Web Scraping"
   ]
  },
  {
   "cell_type": "code",
   "execution_count": 10,
   "id": "7ca3a059-acce-4134-b8ff-1fb57d97cb6f",
   "metadata": {},
   "outputs": [
    {
     "name": "stdout",
     "output_type": "stream",
     "text": [
      "Status code: 200\n"
     ]
    }
   ],
   "source": [
    "\n",
    "# URL of the data source\n",
    "url = \"https://www.worldometers.info/coronavirus/countries-where-coronavirus-has-spread/\"\n",
    "# Send an HTTP GET request to fetch data from the URL\n",
    "r = requests.get(url)\n",
    "\n",
    "# Print the HTTP status code to check if the request was successful\n",
    "print(f\"Status code: {r.status_code}\")"
   ]
  },
  {
   "cell_type": "code",
   "execution_count": 11,
   "id": "26094216-03c6-4a5d-9e42-b29f27639f3e",
   "metadata": {},
   "outputs": [
    {
     "name": "stdout",
     "output_type": "stream",
     "text": [
      "['<td style=\"font-weight: bold; font-size:16px; text-align:left; padding-left:5px; padding-top:10px; padding-bottom:10px\">United States</td>', '<td style=\"font-weight: bold; text-align:right\">111,820,082</td>', '<td style=\"font-weight: bold; text-align:right\">1,219,487</td>', '<td style=\"font-size:14px; color:#aaa; text-align:right\">North America</td>', '<td style=\"font-weight: bold; font-size:16px; text-align:left; padding-left:5px; padding-top:10px; padding-bottom:10px\">India</td>']\n"
     ]
    }
   ],
   "source": [
    "# Parse the HTML content using BeautifulSoup for further extraction\n",
    "soup = BeautifulSoup(r.content, features=\"html.parser\")\n",
    "\n",
    "# Extract all table data (<td>) elements and store them in an array\n",
    "arr = []\n",
    "for i in soup.findAll(\"td\"):\n",
    "    arr.append(str(i))    \n",
    "# Display a sample of the raw data to check the structure\n",
    "print(arr[:5])"
   ]
  },
  {
   "cell_type": "code",
   "execution_count": 12,
   "id": "6bed6b85-8d68-47d1-8f0e-08f67a8e5dd1",
   "metadata": {},
   "outputs": [
    {
     "name": "stdout",
     "output_type": "stream",
     "text": [
      "<td style=\"font-weight: bold; font-size:16px; text-align:left; padding-left:5px; padding-top:10px; padding-bottom:10px\">United States</td>\n",
      " United States \n"
     ]
    }
   ],
   "source": [
    "# Testing the cleaning of raw data using regex\n",
    "print(arr[0])  # Print the raw data from the first element\n",
    "f = re.sub('<td.*\">|<.*>', \" \", arr[0])  # Remove unwanted HTML tags using regex\n",
    "print(f)  # Print the cleaned data"
   ]
  },
  {
   "cell_type": "code",
   "execution_count": 13,
   "id": "fe5bec5c-6a71-4239-ba41-66597b6699fb",
   "metadata": {},
   "outputs": [
    {
     "name": "stdout",
     "output_type": "stream",
     "text": [
      "              country          cases        death               region\n",
      "0      United States    111,820,082    1,219,487        North America \n",
      "1              India     45,035,393      533,570                 Asia \n",
      "2             France     40,138,560      167,642               Europe \n",
      "3            Germany     38,828,995      183,027               Europe \n",
      "4             Brazil     38,743,918      711,380        South America \n",
      "..                ...            ...          ...                  ...\n",
      "225             Niue          1,059            0    Australia/Oceania \n",
      "226          Tokelau             80            0    Australia/Oceania \n",
      "227         Holy See             29            0               Europe \n",
      "228   Western Sahara             10            1               Africa \n",
      "229       MS Zaandam              9            2                      \n",
      "\n",
      "[230 rows x 4 columns]\n"
     ]
    }
   ],
   "source": [
    "#crating the null lists for column data store \n",
    "country, cases, death, region = [], [], [], []\n",
    "count=0\n",
    "# Clean the raw data using regex and insert each item into the corresponding column list\n",
    "for i in arr:\n",
    "    i = re.sub('<td.*\">|<.*>', \" \", i)  # Remove HTML tags from raw data\n",
    "    if count == 0:\n",
    "        country.append(i)  # Append to 'country' list\n",
    "        count += 1\n",
    "    elif count == 1:\n",
    "        cases.append(i)  # Append to 'cases' list\n",
    "        count += 1\n",
    "    elif count == 2:\n",
    "        death.append(i)  # Append to 'death' list\n",
    "        count += 1\n",
    "    else:\n",
    "        region.append(i)  # Append to 'region' list\n",
    "        count = 0  # Reset counter for the next row\n",
    "# Create a DataFrame from the cleaned data with columns: country, cases, death, and region\n",
    "df = pd.DataFrame({\"country\": pd.Series(country), \"cases\": pd.Series(cases), \"death\": pd.Series(death), \"region\": pd.Series(region)})\n",
    "\n",
    "# Display the resulting DataFrame to check the final data\n",
    "print(df)\n"
   ]
  },
  {
   "cell_type": "code",
   "execution_count": 14,
   "id": "1b4c69a4-8f25-4f8b-a250-2d7e5615d462",
   "metadata": {},
   "outputs": [],
   "source": [
    "# saving the collected data in a data set(tabular format) to use or load in another files  or folder of my port folio folder \n",
    "df.to_csv(\"scraped_data.csv\",index=False)"
   ]
  }
 ],
 "metadata": {
  "kernelspec": {
   "display_name": "Python 3 (ipykernel)",
   "language": "python",
   "name": "python3"
  },
  "language_info": {
   "codemirror_mode": {
    "name": "ipython",
    "version": 3
   },
   "file_extension": ".py",
   "mimetype": "text/x-python",
   "name": "python",
   "nbconvert_exporter": "python",
   "pygments_lexer": "ipython3",
   "version": "3.13.1"
  }
 },
 "nbformat": 4,
 "nbformat_minor": 5
}
