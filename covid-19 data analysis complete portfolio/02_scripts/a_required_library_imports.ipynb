{
 "cells": [
  {
   "cell_type": "code",
   "execution_count": 1,
   "id": "ef50b21d-03d7-4c5e-905f-9085145cdb97",
   "metadata": {},
   "outputs": [],
   "source": [
    "#Required libray imports\n",
    "# Importing fundamental libraries for data handling\n",
    "import numpy as np  # NumPy for numerical operations and array handling\n",
    "import pandas as pd  # Pandas for data manipulation and analysis\n",
    "\n",
    "# Importing visualization libraries\n",
    "import matplotlib.pyplot as plt  # Matplotlib for basic data visualization\n",
    "import seaborn as sns  # Seaborn for statistical data visualization\n",
    "\n",
    "# Importing libraries for web scraping and text processing\n",
    "import re  # Regular expressions for pattern matching and text cleaning\n",
    "from bs4 import BeautifulSoup  # BeautifulSoup for parsing HTML content\n",
    "import requests  # Requests library for making HTTP requests"
   ]
  }
 ],
 "metadata": {
  "kernelspec": {
   "display_name": "Python 3 (ipykernel)",
   "language": "python",
   "name": "python3"
  },
  "language_info": {
   "codemirror_mode": {
    "name": "ipython",
    "version": 3
   },
   "file_extension": ".py",
   "mimetype": "text/x-python",
   "name": "python",
   "nbconvert_exporter": "python",
   "pygments_lexer": "ipython3",
   "version": "3.13.1"
  }
 },
 "nbformat": 4,
 "nbformat_minor": 5
}
